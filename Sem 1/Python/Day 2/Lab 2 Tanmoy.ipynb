{
 "cells": [
  {
   "cell_type": "markdown",
   "id": "ed0937b0",
   "metadata": {},
   "source": [
    "P1\n",
    "Write a python program  to find out Chinese Zodiac Sign for given year. It is based on 12 year cycle and each given year in this cycle is represented by animal use multi way selection if elif and else"
   ]
  },
  {
   "cell_type": "code",
   "execution_count": 4,
   "id": "93bcb4de",
   "metadata": {},
   "outputs": [
    {
     "name": "stdout",
     "output_type": "stream",
     "text": [
      "Enter year: 1947\n",
      "Zodiac Sign 3: Pig\n"
     ]
    }
   ],
   "source": [
    "year = eval(input(\"Enter year: \"))\n",
    "zodiacSign = year % 12\n",
    "\n",
    "if zodiacSign == 0:\n",
    "    print(\"Zodiac Sign 0: Monkey\")\n",
    "\n",
    "elif zodiacSign == 1:\n",
    "    print(\"Zodiac Sign 1: Rooster\")\n",
    "\n",
    "elif zodiacSign == 2:\n",
    "    print(\"Zodiac Sign 2: Dog\")\n",
    "\n",
    "elif zodiacSign == 3:\n",
    "    print(\"Zodiac Sign 3: Pig\")\n",
    "\n",
    "elif zodiacSign == 4:\n",
    "    print(\"Zodiac Sign 4: Rat\")\n",
    "\n",
    "elif zodiacSign == 5:\n",
    "    print(\"Zodiac Sign 5: Ox\")\n",
    "\n",
    "elif zodiacSign == 6:\n",
    "    print(\"Zodiac Sign 6: Tiger\")\n",
    "\n",
    "elif zodiacSign == 7:\n",
    "    print(\"Zodiac Sign 7: Rabbit\")\n",
    "\n",
    "elif zodiacSign == 8:\n",
    "    print(\"Zodiac Sign 8: Dragon\")\n",
    "\n",
    "elif zodiacSign == 9:\n",
    "    print(\"Zodiac Sign 9: Snake\")\n",
    "\n",
    "elif zodiacSign == 10:\n",
    "    print(\"Zodiac Sign 10: Horse\")\n",
    "\n",
    "else:\n",
    "    print(\"Zodiac Sign 11: Sheep\")"
   ]
  },
  {
   "cell_type": "markdown",
   "id": "0304bc84",
   "metadata": {},
   "source": [
    "P2\n",
    "Write a python program to print grades according to marks"
   ]
  },
  {
   "cell_type": "code",
   "execution_count": 6,
   "id": "911d3d29",
   "metadata": {},
   "outputs": [
    {
     "name": "stdout",
     "output_type": "stream",
     "text": [
      "Enter your marks: 75.0\n",
      "Grade: B\n"
     ]
    }
   ],
   "source": [
    "marks = eval(input(\"Enter your marks: \"))\n",
    "\n",
    "if marks < 35.0:\n",
    "\tprint(\"Grade: Fail\")\n",
    "elif marks < 40.0:\n",
    "\tprint(\"Grade: P\")\n",
    "elif marks < 50.0:\n",
    "\tprint(\"Grade: E\")\n",
    "elif marks < 60.0:\n",
    "\tprint(\"Grade: D\")\n",
    "elif marks < 70.0:\n",
    "\tprint(\"Grade: C\")\n",
    "elif marks < 80.0:\n",
    "\tprint(\"Grade: B\")\n",
    "elif marks < 90.0:\n",
    "\tprint(\"Grade: A\")\n",
    "else:\n",
    "\tprint(\"Grade: S\")"
   ]
  },
  {
   "cell_type": "markdown",
   "id": "35673c79",
   "metadata": {},
   "source": [
    "P3\n",
    "Write a python program to evaluate quandrant system when user enters the coordinates of x and y"
   ]
  },
  {
   "cell_type": "code",
   "execution_count": 8,
   "id": "21f97f0b",
   "metadata": {},
   "outputs": [
    {
     "name": "stdout",
     "output_type": "stream",
     "text": [
      "x-coordinate: -5\n",
      "y-coordinate: 3\n",
      "Given point ( -5 , 3 ) is in Second Quadrant\n"
     ]
    }
   ],
   "source": [
    "x = eval(input(\"x-coordinate: \"))\n",
    "y = eval(input(\"y-coordinate: \"))\n",
    "\n",
    "if x > 0.0 and y > 0.0:\n",
    "\tprint(\"Given point (\", x, \",\", y, \") is in First Quadrant\")\n",
    "elif x < 0.0 and y > 0.0:\n",
    "\tprint(\"Given point (\", x, \",\", y, \") is in Second Quadrant\")\n",
    "elif x < 0.0 and y < 0.0:\n",
    "\tprint(\"Given point (\", x, \",\", y, \") is in Third Quadrant\")\n",
    "elif x > 0.0 and y < 0.0:\n",
    "\tprint(\"Given point (\", x, \",\", y, \") is in Fourth Quadrant\")\n",
    "else:\n",
    "\tprint(\"Given point (\", x, \",\", y, \") is at Origin\")"
   ]
  },
  {
   "cell_type": "markdown",
   "id": "2aa3054a",
   "metadata": {},
   "source": [
    "P4\n",
    "Write a python program that prompts the user to enter a point (x, y) and checks whether the point is within the circle centred at (0, 0) with radius 10"
   ]
  },
  {
   "cell_type": "code",
   "execution_count": 10,
   "id": "974ebd4f",
   "metadata": {},
   "outputs": [
    {
     "name": "stdout",
     "output_type": "stream",
     "text": [
      "Enter coordinates of the point:\n",
      "x-coordinate: 9\n",
      "y-coordinate: 9\n",
      "Point (9, 9) is outside the circle with radius 10\n"
     ]
    }
   ],
   "source": [
    "print(\"Enter coordinates of the point:\")\n",
    "x = eval(input(\"x-coordinate: \"))\n",
    "y = eval(input(\"y-coordinate: \"))\n",
    "\n",
    "radius = 10\n",
    "distance_from_origin = (x**2 + y**2) ** 0.5\n",
    "if distance_from_origin <= radius:\n",
    "\tprint(f\"Point ({x}, {y}) is inside the circle with radius {radius}\")\n",
    "else:\n",
    "\tprint(f\"Point ({x}, {y}) is outside the circle with radius {radius}\")"
   ]
  },
  {
   "cell_type": "markdown",
   "id": "cd1f1ac0",
   "metadata": {},
   "source": [
    "P5\n",
    "Write a python program that rompts the user to enter a point (x, y) and checks whether the point is within the rectangle centred at (0, 0) with width 10 and height 5. (Hint: A point is within the rectangle if its horizontal distance to (0, 0) is less than or equal to 10/2 and its vertical distance to (0, 0) is less than or equal to 5/2"
   ]
  },
  {
   "cell_type": "code",
   "execution_count": 12,
   "id": "40d6660e",
   "metadata": {},
   "outputs": [
    {
     "name": "stdout",
     "output_type": "stream",
     "text": [
      "Enter coordinates of the point:\n",
      "x-coordinate: 6\n",
      "y-coordinate: 4\n",
      "Point (6, 4) does not lie within the rectangle of length 10 and height 5\n"
     ]
    }
   ],
   "source": [
    "print(\"Enter coordinates of the point:\")\n",
    "x = eval(input(\"x-coordinate: \"))\n",
    "y = eval(input(\"y-coordinate: \"))\n",
    "\n",
    "length = 10\n",
    "height = 5\n",
    "\n",
    "if abs(x) <= (length / 2) and abs(y) <= (height / 2):\n",
    "\tprint(f\"Point ({x}, {y}) lies within the rectangle of length {length} and height {height}\")\n",
    "else:\n",
    "\tprint(f\"Point ({x}, {y}) does not lie within the rectangle of length {length} and height {height}\")"
   ]
  },
  {
   "cell_type": "markdown",
   "id": "4c321464",
   "metadata": {},
   "source": [
    "P6\n",
    "Two points on line 1 are given as (x1, y1) and (x2, y2) and on line as2 as (x3, y3) and (x4, y4). If the 2 lines intersect, find the intersecting points else print that both the lines parallel"
   ]
  },
  {
   "cell_type": "code",
   "execution_count": 3,
   "id": "adc32454",
   "metadata": {},
   "outputs": [
    {
     "name": "stdout",
     "output_type": "stream",
     "text": [
      "Enter the coordinates of line 1, point 1: 2,2\n",
      "Enter the coordinates of line 1, point 2: 7,6\n",
      "Enter the coordinates of line 2, point 3: 4,2\n",
      "Enter the coordinates of line 2, point 4: -1,-2\n",
      "The 2 lines are parallel\n"
     ]
    }
   ],
   "source": [
    "x1, y1 = eval(input(\"Enter the coordinates of line 1, point 1: \"))\n",
    "x2, y2 = eval(input(\"Enter the coordinates of line 1, point 2: \"))\n",
    "x3, y3 = eval(input(\"Enter the coordinates of line 2, point 3: \"))\n",
    "x4, y4 = eval(input(\"Enter the coordinates of line 2, point 4: \"))\n",
    "\n",
    "a1 = y1 - y2\n",
    "b1 = x1 - x2\n",
    "c1 = (a1 * x1) - (b1 * y1)\n",
    "\n",
    "a2 = y3 - y4\n",
    "b2 = x3 - x4\n",
    "c2 = (a2 * x3) - (b2 * y3)\n",
    "\n",
    "d = (a1 *  b2)- (b1 * a2)\n",
    "\n",
    "if d == 0:\n",
    "    print(f\"The 2 lines are parallel\")\n",
    "    \n",
    "else:\n",
    "    d1 = (c1 * b2) - (b1 * c2)\n",
    "    d2 = (a1 * c2) * (c1 * a2)\n",
    "    x = d1 // d\n",
    "    y = d2 // d\n",
    "    print(f\"The intersecting point is ({x}, {y})\")"
   ]
  },
  {
   "cell_type": "code",
   "execution_count": null,
   "id": "710bdb2a",
   "metadata": {},
   "outputs": [],
   "source": []
  }
 ],
 "metadata": {
  "kernelspec": {
   "display_name": "Python 3 (ipykernel)",
   "language": "python",
   "name": "python3"
  },
  "language_info": {
   "codemirror_mode": {
    "name": "ipython",
    "version": 3
   },
   "file_extension": ".py",
   "mimetype": "text/x-python",
   "name": "python",
   "nbconvert_exporter": "python",
   "pygments_lexer": "ipython3",
   "version": "3.9.12"
  }
 },
 "nbformat": 4,
 "nbformat_minor": 5
}

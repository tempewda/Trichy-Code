{
 "cells": [
  {
   "cell_type": "markdown",
   "id": "498cb33e",
   "metadata": {},
   "source": [
    "## Topic: Recursion"
   ]
  },
  {
   "cell_type": "markdown",
   "id": "79447943",
   "metadata": {},
   "source": [
    "### Write recursive python program for the following:\n",
    "### 1. octal to binary"
   ]
  },
  {
   "cell_type": "code",
   "execution_count": 27,
   "id": "5cd737fb",
   "metadata": {},
   "outputs": [
    {
     "name": "stdout",
     "output_type": "stream",
     "text": [
      "Given Octal Number: 171\n",
      "Equivalent Binary Conversion: 1111001"
     ]
    }
   ],
   "source": [
    "num = int(input(\"Given Octal Number: \"))\n",
    "\n",
    "def octToDec(num, pow):\n",
    "    rem = num % 10\n",
    "    num = num // 10\n",
    "    digit = rem * (8 ** pow)\n",
    "    pow += 1\n",
    "    \n",
    "    # end condition\n",
    "    if num == 0:\n",
    "        return digit\n",
    "    \n",
    "    # else keep adding\n",
    "    return digit + octToDec(num, pow)\n",
    "\n",
    "def decToBin(num):\n",
    "    \n",
    "    # end condition\n",
    "    if num == 0:\n",
    "        return\n",
    "    \n",
    "    # recursion\n",
    "    decToBin(num//2)\n",
    "    print(num%2, end = '')\n",
    "    \n",
    "\n",
    "def octToBin(num):\n",
    "    dec = octToDec(num, 0)\n",
    "    print(\"Equivalent Binary Conversion: \", end = '')\n",
    "    decToBin(dec)\n",
    "\n",
    "octToBin(num)"
   ]
  },
  {
   "cell_type": "markdown",
   "id": "451cd6b8",
   "metadata": {},
   "source": [
    "### 2. hexadecimal to binary"
   ]
  },
  {
   "cell_type": "code",
   "execution_count": 26,
   "id": "5031d6e6",
   "metadata": {},
   "outputs": [
    {
     "name": "stdout",
     "output_type": "stream",
     "text": [
      "Given Hexadecimal Number: AB123\n",
      "Equivalent Decimal Number: 700707\n",
      "Equivalent Binary Number: 10101011000100100011"
     ]
    }
   ],
   "source": [
    "numstr = input(\"Given Hexadecimal Number: \")\n",
    "\n",
    "\n",
    "def hexToDec(numStr, pow):\n",
    "    \n",
    "    # end condition\n",
    "    if numStr == '':\n",
    "        return 0\n",
    "    \n",
    "    # extract each digit starting from the end\n",
    "    hexDigitStr = numStr[-1]\n",
    "    numstr = numStr[:-1]\n",
    "    hexDigit = 0\n",
    "    \n",
    "    # convert Alpha to Digits using ASCII values\n",
    "    if hexDigitStr.isalpha():\n",
    "        hexDigit = ord(hexDigitStr) - 55\n",
    "    else:\n",
    "        hexDigit = int(hexDigitStr)\n",
    "    \n",
    "    decDigit = hexDigit * (16 ** pow)\n",
    "    pow += 1\n",
    "    \n",
    "    # else keep adding\n",
    "    return decDigit + hexToDec(numstr, pow)\n",
    "\n",
    "\n",
    "def decToBin(num):\n",
    "    \n",
    "    # end condition\n",
    "    if num == 0:\n",
    "        return\n",
    "    \n",
    "    decToBin(num//2)\n",
    "    print(num%2, end = '')\n",
    "    \n",
    "\n",
    "def hexToBin(num):\n",
    "    dec = hexToDec(num, 0)\n",
    "    print(f\"Equivalent Decimal Number: {dec}\")\n",
    "    print(\"Equivalent Binary Number: \", end = '')\n",
    "    decToBin(dec)\n",
    "\n",
    "    \n",
    "hexToBin(numstr)"
   ]
  },
  {
   "cell_type": "markdown",
   "id": "b98e6645",
   "metadata": {},
   "source": [
    "### 3. binary to octal\n",
    "\n",
    "#### Working:\n",
    "input binary number as a string, divide them into parts of 3 - 3 digits, and then convert each to octal individually<br>\n",
    "Example Input: 1111001<br>\n",
    "Divide them into groups of 3 <ins>starting from the end</ins>: 001   111   001<br>\n",
    "Convert each to octal, individually: 171<br>"
   ]
  },
  {
   "cell_type": "code",
   "execution_count": 36,
   "id": "b9676c92",
   "metadata": {},
   "outputs": [
    {
     "name": "stdout",
     "output_type": "stream",
     "text": [
      "Given Binary Number: 111000111\n",
      "Equivalent Octal Number: 707"
     ]
    }
   ],
   "source": [
    "binNum = int(input(\"Given Binary Number: \"))\n",
    "\n",
    "# convert 3 digit binary number to decimal number\n",
    "def binToDec(binDigit):\n",
    "    digit3 = (binDigit // 100) * (2 ** 2)\n",
    "    binDigit = binDigit % 100\n",
    "    \n",
    "    digit2 = (binDigit // 10) * (2 ** 1)\n",
    "    binDigit = binDigit % 10\n",
    "    \n",
    "    digit1 = binDigit * (2 ** 0)\n",
    "    \n",
    "    return digit3 + digit2 + digit1\n",
    "\n",
    "def binToOct(binNum):\n",
    "    \n",
    "    # end condition\n",
    "    if binNum == 0:\n",
    "        return\n",
    "    \n",
    "    # extract last 3 digits from binary\n",
    "    binDigit = binNum % 1000\n",
    "    binNum = binNum // 1000\n",
    "    \n",
    "    # convert digit to decimal\n",
    "    decDigit = binToDec(binDigit)\n",
    "    \n",
    "    # recursion\n",
    "    binToOct(binNum)\n",
    "    print(decDigit, end = '')\n",
    "    \n",
    "print(\"Equivalent Octal Number: \", end = '')\n",
    "binToOct(binNum)"
   ]
  },
  {
   "cell_type": "markdown",
   "id": "6520e9f5",
   "metadata": {},
   "source": [
    "### 4. Enter a 4-digit number and display them in words"
   ]
  },
  {
   "cell_type": "code",
   "execution_count": 4,
   "id": "f2f9c4a4",
   "metadata": {},
   "outputs": [
    {
     "name": "stdout",
     "output_type": "stream",
     "text": [
      "Given 4-digit number: 4301\n",
      "Given number in words: four three zero one "
     ]
    }
   ],
   "source": [
    "def digitToWord(num):\n",
    "    # base condition\n",
    "    if num == 0:\n",
    "        return\n",
    "    \n",
    "    # extract each digit\n",
    "    digit = num % 10\n",
    "    num = num // 10\n",
    "    \n",
    "    # recursive call\n",
    "    digitToWord(num)\n",
    "    print(numToWord[digit], end = ' ')\n",
    "    \n",
    "\n",
    "num = int(input(\"Given 4-digit number: \"))\n",
    "numToWord = {1: \"one\", 2: \"two\", 3: \"three\", 4: \"four\", 5: \"five\", 6: \"six\", 7: \"seven\", 8: \"eight\", 9: \"nine\", 0: \"zero\"} \n",
    "print(\"Given number in words: \", end = '')\n",
    "digitToWord(num)"
   ]
  },
  {
   "cell_type": "markdown",
   "id": "2aca2e3e",
   "metadata": {},
   "source": [
    "### 5. Find the sum of the series using Recursion\n",
    "\n",
    "### (a)  x - x^3/3! + x^5/5! - x^7/7! + ... "
   ]
  },
  {
   "cell_type": "code",
   "execution_count": 16,
   "id": "0611f628",
   "metadata": {},
   "outputs": [
    {
     "name": "stdout",
     "output_type": "stream",
     "text": [
      "Value of x: 90\n",
      "Number of terms: 10\n",
      "sin 90 using expansion till 10 terms: -1.0651331796981349e+20\n"
     ]
    }
   ],
   "source": [
    "x = int(input(\"Value of x: \"))\n",
    "terms = int(input(\"Number of terms: \"))\n",
    "\n",
    "def fact(num):\n",
    "    if num == 0 or num == 1:\n",
    "        return 1\n",
    "    return num * fact(num - 1)\n",
    "\n",
    "def sum1(terms, x, pow, sign):\n",
    "    # base condition\n",
    "    if terms == 0:\n",
    "        return 0\n",
    "    \n",
    "    return sign * ((x ** pow) / fact(pow)) + sum1(terms - 1, x, pow + 2, sign * -1)\n",
    "\n",
    "print(f\"sin {x} using expansion till {terms} terms: {sum1(terms, x, 1, 1)}\")"
   ]
  },
  {
   "cell_type": "markdown",
   "id": "f8b05251",
   "metadata": {},
   "source": [
    "### (b)  1 - x^2/2! + x^4/4! - x^6/6! + ... "
   ]
  },
  {
   "cell_type": "code",
   "execution_count": 17,
   "id": "47f3f582",
   "metadata": {},
   "outputs": [
    {
     "name": "stdout",
     "output_type": "stream",
     "text": [
      "Value of x: 0\n",
      "Number of terms: 10\n",
      "cos 0 using expansion till 10 terms: 1.0\n"
     ]
    }
   ],
   "source": [
    "x = int(input(\"Value of x: \"))\n",
    "terms = int(input(\"Number of terms: \"))\n",
    "\n",
    "def fact(num):\n",
    "    if num == 0 or num == 1:\n",
    "        return 1\n",
    "    return num * fact(num - 1)\n",
    "\n",
    "def sum2(terms, x, pow, sign):\n",
    "    # base condition\n",
    "    if terms == 0:\n",
    "        return 0\n",
    "    \n",
    "    return sign * ((x ** pow) / fact(pow)) + sum2(terms - 1, x, pow + 2, sign * -1)\n",
    "\n",
    "print(f\"cos {x} using expansion till {terms} terms: {sum2(terms, x, 0, 1)}\")"
   ]
  },
  {
   "cell_type": "markdown",
   "id": "1fc60aa8",
   "metadata": {},
   "source": [
    "### (c)  1 + x + x^2/2! + x^3/3!  ... "
   ]
  },
  {
   "cell_type": "code",
   "execution_count": 18,
   "id": "c65689cb",
   "metadata": {},
   "outputs": [
    {
     "name": "stdout",
     "output_type": "stream",
     "text": [
      "Value of x: 2\n",
      "Number of terms: 3\n",
      "Sum of series using expansion till 3 terms: 5.0\n"
     ]
    }
   ],
   "source": [
    "x = int(input(\"Value of x: \"))\n",
    "terms = int(input(\"Number of terms: \"))\n",
    "\n",
    "def fact(num):\n",
    "    if num == 0 or num == 1:\n",
    "        return 1\n",
    "    return num * fact(num - 1)\n",
    "\n",
    "def sum3(terms, x, pow):\n",
    "    # base condition\n",
    "    if terms == 0:\n",
    "        return 0\n",
    "    \n",
    "    return ((x ** pow) / fact(pow)) + sum3(terms - 1, x, pow + 1)\n",
    "\n",
    "print(f\"Sum of series using expansion till {terms} terms: {sum3(terms, x, 0)}\")"
   ]
  },
  {
   "cell_type": "markdown",
   "id": "aa9c1f1e",
   "metadata": {},
   "source": [
    "### (d)  x - x^2/2 + x^3/3 - x^4/4 + x^5/5  ... "
   ]
  },
  {
   "cell_type": "code",
   "execution_count": 19,
   "id": "3cba51d5",
   "metadata": {},
   "outputs": [
    {
     "name": "stdout",
     "output_type": "stream",
     "text": [
      "Value of x: 2\n",
      "Number of terms: 10\n",
      "log(1 + 2) using expansion till 10 terms: -21580.212413523863\n"
     ]
    }
   ],
   "source": [
    "x = int(input(\"Value of x: \"))\n",
    "terms = int(input(\"Number of terms: \"))\n",
    "\n",
    "def sum4(terms, x, pow, sign):\n",
    "    # base condition\n",
    "    if terms == 0:\n",
    "        return 0\n",
    "    \n",
    "    return sign * ((x ** pow) / pow) + sum4(terms - 1, x, pow + 2, sign * -1)\n",
    "\n",
    "print(f\"log(1 + {x}) using expansion till {terms} terms: {sum4(terms, x, 1, 1)}\")"
   ]
  },
  {
   "cell_type": "markdown",
   "id": "d1e2af54",
   "metadata": {},
   "source": [
    "### (e)  x - x^2/2 - x^3/3 - x^4/4 - x^5/5  ... "
   ]
  },
  {
   "cell_type": "code",
   "execution_count": 20,
   "id": "04a5d073",
   "metadata": {},
   "outputs": [
    {
     "name": "stdout",
     "output_type": "stream",
     "text": [
      "Value of x: 2\n",
      "Number of terms: 10\n",
      "log(1 + 2) using expansion till 10 terms: -21580.212413523863\n"
     ]
    }
   ],
   "source": [
    "x = int(input(\"Value of x: \"))\n",
    "terms = int(input(\"Number of terms: \"))\n",
    "\n",
    "def sum5(terms, x, pow):\n",
    "    # base condition\n",
    "    if terms == 0:\n",
    "        return 0\n",
    "    \n",
    "    return ((x ** pow) / pow) - sum5(terms - 1, x, pow + 2)\n",
    "\n",
    "print(f\"log(1 + {x}) using expansion till {terms} terms: {sum5(terms, x, 1)}\")"
   ]
  },
  {
   "cell_type": "markdown",
   "id": "ec5f4507",
   "metadata": {},
   "source": [
    "### 6. Define Ackermann's function: A(m,n) = \n",
    "###                                                        (n + 1), if m = 0\n",
    "###                                                         A(m - 1, 1) if m > 0 & n = 0\n",
    "###                                                         A(m - 1, A(m, n - 1)), if m > 0 & n > 0"
   ]
  },
  {
   "cell_type": "code",
   "execution_count": 21,
   "id": "0e937ec3",
   "metadata": {},
   "outputs": [
    {
     "name": "stdout",
     "output_type": "stream",
     "text": [
      "m: 3\n",
      "n: 3\n"
     ]
    },
    {
     "data": {
      "text/plain": [
       "61"
      ]
     },
     "execution_count": 21,
     "metadata": {},
     "output_type": "execute_result"
    }
   ],
   "source": [
    "m = int(input(\"m: \"))\n",
    "n = int(input(\"n: \"))\n",
    "\n",
    "def A(m, n):\n",
    "    # base condition\n",
    "    if m == 0:\n",
    "        return (n + 1)\n",
    "    \n",
    "    elif m > 0 and n == 0:\n",
    "        return A(m - 1, 1)\n",
    "    \n",
    "    elif m > 0 and n > 0:\n",
    "        return A(m - 1, A(m, n - 1))\n",
    "    \n",
    "A(m, n)"
   ]
  }
 ],
 "metadata": {
  "kernelspec": {
   "display_name": "Python 3 (ipykernel)",
   "language": "python",
   "name": "python3"
  },
  "language_info": {
   "codemirror_mode": {
    "name": "ipython",
    "version": 3
   },
   "file_extension": ".py",
   "mimetype": "text/x-python",
   "name": "python",
   "nbconvert_exporter": "python",
   "pygments_lexer": "ipython3",
   "version": "3.9.12"
  }
 },
 "nbformat": 4,
 "nbformat_minor": 5
}

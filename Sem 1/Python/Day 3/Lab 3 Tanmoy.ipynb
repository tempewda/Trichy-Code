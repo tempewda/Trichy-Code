{
 "cells": [
  {
   "cell_type": "markdown",
   "id": "c00998b9",
   "metadata": {},
   "source": [
    "P1\n",
    "demonstrating for, while and do while loops to print all 4 digit palindrome numbers"
   ]
  },
  {
   "cell_type": "code",
   "execution_count": 25,
   "id": "a14b3a90",
   "metadata": {},
   "outputs": [
    {
     "name": "stdout",
     "output_type": "stream",
     "text": [
      "All 4-digit Palindrome Numbers: \n",
      "1001, 1111, 1221, 1331, 1441, 1551, 1661, 1771, 1881, 1991, 2002, 2112, 2222, 2332, 2442, 2552, 2662, 2772, 2882, 2992, 3003, 3113, 3223, 3333, 3443, 3553, 3663, 3773, 3883, 3993, 4004, 4114, 4224, 4334, 4444, 4554, 4664, 4774, 4884, 4994, 5005, 5115, 5225, 5335, 5445, 5555, 5665, 5775, 5885, 5995, 6006, 6116, 6226, 6336, 6446, 6556, 6666, 6776, 6886, 6996, 7007, 7117, 7227, 7337, 7447, 7557, 7667, 7777, 7887, 7997, 8008, 8118, 8228, 8338, 8448, 8558, 8668, 8778, 8888, 8998, 9009, 9119, 9229, 9339, 9449, 9559, 9669, 9779, 9889, 9999, "
     ]
    }
   ],
   "source": [
    "print(\"All 4-digit Palindrome Numbers: \")\n",
    "\n",
    "# iterate over all 4 digit numbers\n",
    "for number in range(1000, 10000):\n",
    "    \n",
    "    # check for palindrome\n",
    "    temp = number \n",
    "    power_ten = 3\n",
    "    is_palindrome = True\n",
    "    \n",
    "    while temp > 0:\n",
    "        last_digit = temp % 10\n",
    "        first_digit = temp // (10 ** power_ten)\n",
    "        \n",
    "        if first_digit != last_digit:\n",
    "            is_palindrome = False\n",
    "            break\n",
    "        \n",
    "        # remove the first and last digits\n",
    "        temp = temp % (10 ** power_ten)\n",
    "        temp = temp // 10\n",
    "        \n",
    "        power_ten -= 2\n",
    "        \n",
    "    if is_palindrome:\n",
    "        print(f\"{number}\", end = \", \");"
   ]
  },
  {
   "cell_type": "markdown",
   "id": "91b208ca",
   "metadata": {},
   "source": [
    "P2\n",
    "twin primes less than 1000 (pair of prime numbers that differ by 2)"
   ]
  },
  {
   "cell_type": "code",
   "execution_count": 26,
   "id": "1fde6ad4",
   "metadata": {},
   "outputs": [
    {
     "name": "stdout",
     "output_type": "stream",
     "text": [
      "All Twin Prime Numbers less than 1000: \n",
      "(3, 5), (5, 7), (11, 13), (17, 19), (29, 31), (41, 43), (59, 61), (71, 73), (101, 103), (107, 109), (137, 139), (149, 151), (179, 181), (191, 193), (197, 199), (227, 229), (239, 241), (269, 271), (281, 283), (311, 313), (347, 349), (419, 421), (431, 433), (461, 463), (521, 523), (569, 571), (599, 601), (617, 619), (641, 643), (659, 661), (809, 811), (821, 823), (827, 829), (857, 859), (881, 883), "
     ]
    }
   ],
   "source": [
    "print(\"All Twin Prime Numbers less than 1000: \")\n",
    "\n",
    "# store the last found prime number\n",
    "last_prime = 2\n",
    "\n",
    "for number in range(3, 1000):\n",
    "    \n",
    "    # check if number is prime\n",
    "    is_prime = True\n",
    "    for factor in range (2, (number // 2) + 1):\n",
    "        if number % factor == 0:\n",
    "            is_prime = False\n",
    "            break\n",
    "    \n",
    "    # if number is not prime then check for the next number\n",
    "    if not is_prime:\n",
    "        continue\n",
    "    \n",
    "    # check if difference with last prime number is 2\n",
    "    if (number - last_prime) == 2:\n",
    "        print(f\"({last_prime}, {number})\", end = \", \")\n",
    "    \n",
    "    last_prime = number\n",
    "    "
   ]
  },
  {
   "cell_type": "markdown",
   "id": "d769850a",
   "metadata": {},
   "source": [
    "P3\n",
    "display first 100 reverse prime numbers (emirps) Emirps aren't palindromic"
   ]
  },
  {
   "cell_type": "code",
   "execution_count": 27,
   "id": "1bd84515",
   "metadata": {},
   "outputs": [
    {
     "name": "stdout",
     "output_type": "stream",
     "text": [
      "First 100 Emirps: \n",
      "\n",
      "13, 17, 31, 37, 71, 73, 79, 97, 107, \n",
      "113, 149, 157, 167, 179, 199, \n",
      "311, 337, 347, 359, 389, 701, \n",
      "709, 733, 739, 743, 751, 761, 769, \n",
      "907, 937, 941, 953, 967, 971, 983, \n",
      "991, 1009, 1021, 1031, 1033, 1061, 1069, 1091, 1097, 1103, \n",
      "1109, 1151, 1153, 1181, 1193, 1201, 1213, 1217, 1223, 1229, \n",
      "1231, 1237, 1249, 1259, 1279, 1283, 1301, 1321, 1381, 1399, \n",
      "1409, 1429, 1439, 1453, 1471, 1487, 1499, 1511, 1523, 1559, \n",
      "1583, 1597, 1601, 1619, 1657, 1669, 1723, 1733, 1741, 1753, \n"
     ]
    }
   ],
   "source": [
    "print(\"First 100 Emirps: \")\n",
    "\n",
    "emirp_counter = 0\n",
    "\n",
    "# emirps start from 2 digits\n",
    "number = 10\n",
    "\n",
    "while emirp_counter <= 100:\n",
    "    \n",
    "    # check if number is prime\n",
    "    is_prime = True\n",
    "    for factor in range (2, (number // 2) + 1):\n",
    "        if number % factor == 0:\n",
    "            is_prime = False\n",
    "            break\n",
    "    \n",
    "    # if number is not prime then check for the next number\n",
    "    if not is_prime:\n",
    "        number = number + 1\n",
    "        continue\n",
    "    \n",
    "    # reverse the number\n",
    "    reverse = 0\n",
    "    temp = number\n",
    "    while temp > 0:\n",
    "        last_digit = temp % 10\n",
    "        reverse = (reverse * 10) + last_digit\n",
    "        temp = temp // 10\n",
    "        \n",
    "        \n",
    "    # check if reversed number is prime\n",
    "    is_prime = True\n",
    "    for factor in range (2, (reverse // 2) + 1):\n",
    "        if reverse % factor == 0:\n",
    "            is_prime = False\n",
    "            break\n",
    "    \n",
    "    # if reverse number is not prime then check for the next number\n",
    "    if not is_prime:\n",
    "        number = number + 1\n",
    "        continue\n",
    "    \n",
    "    # Emirps can't be palindromic\n",
    "    if number != reverse:\n",
    "        print(f\"{number}\", end = \", \")\n",
    "    \n",
    "    # move to new line after 10 numbers have been printed\n",
    "    if emirp_counter % 10 == 0:\n",
    "        print()\n",
    "        \n",
    "    emirp_counter = emirp_counter + 1\n",
    "    number = number + 1"
   ]
  },
  {
   "cell_type": "markdown",
   "id": "5ca25e86",
   "metadata": {},
   "source": [
    "P4\n",
    "print first 100 palindromic prime numbers"
   ]
  },
  {
   "cell_type": "code",
   "execution_count": 29,
   "id": "f66e2013",
   "metadata": {},
   "outputs": [
    {
     "name": "stdout",
     "output_type": "stream",
     "text": [
      "First 100 Palindromic Prime Numbers: \n",
      "2, 3, 5, 7, 11, 101, 131, 151, 181, 191, \n",
      "313, 353, 373, 383, 727, 757, 787, 797, 919, 929, \n",
      "10301, 10501, 10601, 11311, 11411, 12421, 12721, 12821, 13331, 13831, \n",
      "13931, 14341, 14741, 15451, 15551, 16061, 16361, 16561, 16661, 17471, \n",
      "17971, 18181, 18481, 19391, 19891, 19991, 30103, 30203, 30403, 30703, \n",
      "30803, 31013, 31513, 32323, 32423, 33533, 34543, 34843, 35053, 35153, \n",
      "35353, 35753, 36263, 36563, 37273, 37573, 38083, 38183, 38783, 39293, \n",
      "70207, 70507, 70607, 71317, 71917, 72227, 72727, 73037, 73237, 73637, \n",
      "74047, 74747, 75557, 76367, 76667, 77377, 77477, 77977, 78487, 78787, \n",
      "78887, 79397, 79697, 79997, 90709, 91019, 93139, 93239, 93739, 94049, \n",
      "94349, "
     ]
    }
   ],
   "source": [
    "print(\"First 100 Palindromic Prime Numbers: \")\n",
    "pp_counter = 0\n",
    "\n",
    "# Palindromic primes start from 2\n",
    "number = 2\n",
    "\n",
    "while pp_counter <= 100:\n",
    "    \n",
    "    # check if number is prime\n",
    "    is_prime = True\n",
    "    for factor in range (2, (number // 2) + 1):\n",
    "        if number % factor == 0:\n",
    "            is_prime = False\n",
    "            break\n",
    "    \n",
    "    # if number is not prime then check for the next number\n",
    "    if not is_prime:\n",
    "        number = number + 1\n",
    "        continue\n",
    "    \n",
    "    # reverse the number\n",
    "    reverse = 0\n",
    "    temp = number\n",
    "    while temp > 0:\n",
    "        last_digit = temp % 10\n",
    "        reverse = (reverse * 10) + last_digit\n",
    "        temp = temp // 10\n",
    "\n",
    "    \n",
    "    # check if prime number is palindromic\n",
    "    if number == reverse:\n",
    "        print(f\"{number}\", end = \", \")\n",
    "        pp_counter = pp_counter + 1\n",
    "        # move to new line after 10 numbers have been printed\n",
    "        if pp_counter % 10 == 0:\n",
    "            print()\n",
    "  \n",
    "    number = number + 1"
   ]
  },
  {
   "cell_type": "code",
   "execution_count": null,
   "id": "7da69fbe",
   "metadata": {},
   "outputs": [],
   "source": []
  }
 ],
 "metadata": {
  "kernelspec": {
   "display_name": "Python 3 (ipykernel)",
   "language": "python",
   "name": "python3"
  },
  "language_info": {
   "codemirror_mode": {
    "name": "ipython",
    "version": 3
   },
   "file_extension": ".py",
   "mimetype": "text/x-python",
   "name": "python",
   "nbconvert_exporter": "python",
   "pygments_lexer": "ipython3",
   "version": "3.9.12"
  }
 },
 "nbformat": 4,
 "nbformat_minor": 5
}

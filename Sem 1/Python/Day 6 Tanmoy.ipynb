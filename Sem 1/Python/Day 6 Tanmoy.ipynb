{
 "cells": [
  {
   "cell_type": "markdown",
   "id": "546fc91d",
   "metadata": {},
   "source": [
    "Write a recursive python program that determines if a string is palindrome"
   ]
  },
  {
   "cell_type": "code",
   "execution_count": 9,
   "id": "4fe1940b",
   "metadata": {},
   "outputs": [
    {
     "name": "stdout",
     "output_type": "stream",
     "text": [
      "Input String: mmh\n",
      "mmh is not a Palindrome String!!\n"
     ]
    }
   ],
   "source": [
    "def reverse(string, reversed_string):\n",
    "    if string == '':\n",
    "        return reversed_string\n",
    "    \n",
    "    reversed_string += string[-1]\n",
    "    string = string[:-1]\n",
    "    return reverse(string, reversed_string)\n",
    "\n",
    "string = input(\"Input String: \")\n",
    "if string == reverse(string, ''):\n",
    "    print(f\"{string} is a Palindrome String!\")\n",
    "else:\n",
    "    print(f\"{string} is not a Palindrome String!!\")"
   ]
  },
  {
   "cell_type": "markdown",
   "id": "5ff8ffb4",
   "metadata": {},
   "source": [
    "WARPF that arranges a sequence of integer values so that all the even values appear before all the odd values and vice versa"
   ]
  },
  {
   "cell_type": "code",
   "execution_count": 4,
   "id": "64f7ec26",
   "metadata": {},
   "outputs": [
    {
     "name": "stdout",
     "output_type": "stream",
     "text": [
      "Number: 123456789\n",
      "even and odd digits: 864297531\n",
      "odd and even digits: 975318642\n"
     ]
    }
   ],
   "source": [
    "num = input(\"Number: \")\n",
    "\n",
    "def separate_even_odd_digits(num, even, odd):\n",
    "    if num == '':\n",
    "        return (even + odd, odd + even)\n",
    "    \n",
    "    last_digit = num[-1]\n",
    "    num = num[:-1]\n",
    "    \n",
    "    if int(last_digit) % 2 == 0:\n",
    "        even += last_digit\n",
    "    else:\n",
    "        odd += last_digit\n",
    "        \n",
    "    return separate_even_odd_digits(num, even, odd)\n",
    "    \n",
    "even_odd = separate_even_odd_digits(num, '', '')\n",
    "print(f\"even and odd digits: {even_odd[0]}\")\n",
    "print(f\"odd and even digits: {even_odd[1]}\")"
   ]
  },
  {
   "cell_type": "markdown",
   "id": "31b555f9",
   "metadata": {},
   "source": [
    "WARPF to print all the permutations of a string"
   ]
  },
  {
   "cell_type": "code",
   "execution_count": null,
   "id": "2231e3dc",
   "metadata": {},
   "outputs": [],
   "source": [
    "string = input(\"String: \")\n",
    "\n"
   ]
  },
  {
   "cell_type": "markdown",
   "id": "71ad8889",
   "metadata": {},
   "source": [
    "WARPF that accepts a string and calculates the number of vowels, number of digits, lowercase letters and blank spaces\n",
    "\n",
    "\n",
    "eg: The Eiffel Tower in Paris is 324 meter tall"
   ]
  },
  {
   "cell_type": "code",
   "execution_count": 2,
   "id": "f0eca21c",
   "metadata": {},
   "outputs": [
    {
     "name": "stdout",
     "output_type": "stream",
     "text": [
      "String: The Eiffel Tower in Paris is 324 meter tall\n",
      "Number of\n",
      "Vowels: 12\n",
      "Digits: 3\n",
      "Lower Cases: 16\n",
      "Spaces: 8\n"
     ]
    }
   ],
   "source": [
    "string = input(\"String: \")\n",
    "\n",
    "def count(string, vowels, digits, lower, spaces):\n",
    "    if string == '':\n",
    "        return (vowels, digits, lower, spaces)\n",
    "    \n",
    "    last_char = string[-1]\n",
    "    string = string[:-1]\n",
    "    \n",
    "    if last_char in ('a', 'e', 'i', 'o', 'u'):\n",
    "        vowels += 1\n",
    "        \n",
    "    elif last_char >= '0' and last_char <= '9':\n",
    "        digits += 1\n",
    "        \n",
    "    elif last_char >= 'a' and last_char <= 'z':\n",
    "        lower += 1\n",
    "        \n",
    "    elif last_char == ' ':\n",
    "        spaces += 1\n",
    "        \n",
    "    return count(string, vowels, digits, lower, spaces)\n",
    "\n",
    "counters = count(string, 0, 0, 0, 0)\n",
    "print(\"Number of\")\n",
    "print(f\"Vowels: {counters[0]}\")\n",
    "print(f\"Digits: {counters[1]}\")\n",
    "print(f\"Lower Cases: {counters[2]}\")\n",
    "print(f\"Spaces: {counters[3]}\")"
   ]
  },
  {
   "cell_type": "markdown",
   "id": "62798218",
   "metadata": {},
   "source": [
    "WARPF that reads a string from user and displays the same string after removing vowels from it"
   ]
  },
  {
   "cell_type": "code",
   "execution_count": 22,
   "id": "7a827605",
   "metadata": {},
   "outputs": [
    {
     "name": "stdout",
     "output_type": "stream",
     "text": [
      "String: Hello\n",
      "String after removal of all vowels: Hll\n"
     ]
    }
   ],
   "source": [
    "string = input(\"String: \")\n",
    "\n",
    "def rmv_vowels(string, updated_str):\n",
    "    if string == '':\n",
    "        return updated_str\n",
    "    \n",
    "    first_char = string[0]\n",
    "    string = string[1:]\n",
    "    \n",
    "    if first_char not in ('a', 'e', 'i', 'o', 'u'):\n",
    "        updated_str += first_char\n",
    "        \n",
    "    return rmv_vowels(string, updated_str)\n",
    "\n",
    "print(f\"String after removal of all vowels: {rmv_vowels(string, '')}\")"
   ]
  },
  {
   "cell_type": "markdown",
   "id": "08ccb7e8",
   "metadata": {},
   "source": [
    "WARPF that sorts a given string in lexicographic format"
   ]
  },
  {
   "cell_type": "code",
   "execution_count": 3,
   "id": "5ffbe84e",
   "metadata": {},
   "outputs": [
    {
     "name": "stdout",
     "output_type": "stream",
     "text": [
      "Input String: The Eiffel Tower in Paris is 324 meter tall\n",
      "After sorting lexicographically:         234EPTTaaeeeeeffhiiiilllmnorrrssttw\n"
     ]
    }
   ],
   "source": [
    "string = input(\"Input String: \")\n",
    "\n",
    "def recursive_selection(string, index):\n",
    "    if not(index < len(string)):\n",
    "        return string\n",
    "    \n",
    "    smallest_index = index\n",
    "    \n",
    "    # find smallest character form index to last character of string\n",
    "    for i in range(index + 1, len(string)):\n",
    "        if string[i] < string[smallest_index]:\n",
    "            smallest_index = i\n",
    "            \n",
    "    # avoid slicing problem when these 2 are equal\n",
    "    if smallest_index != index:\n",
    "        string = string[:index] + string[smallest_index] + string[index + 1:smallest_index] + string[index] + string[smallest_index + 1:]      \n",
    "    index += 1\n",
    "    \n",
    "    return recursive_selection(string, index)\n",
    "\n",
    "print(f\"After sorting lexicographically: {recursive_selection(string, 0)}\")"
   ]
  },
  {
   "cell_type": "markdown",
   "id": "ee536447",
   "metadata": {},
   "source": [
    "Extract the first n characters of a string and reverse (also extract last n digits)"
   ]
  },
  {
   "cell_type": "code",
   "execution_count": null,
   "id": "e4a71720",
   "metadata": {},
   "outputs": [],
   "source": []
  },
  {
   "cell_type": "code",
   "execution_count": 25,
   "id": "56afefe1",
   "metadata": {},
   "outputs": [
    {
     "name": "stdout",
     "output_type": "stream",
     "text": [
      "AECDB\n"
     ]
    }
   ],
   "source": [
    "s = 'ABCDE'\n",
    "small = 4\n",
    "index = 1\n",
    "print(s[:index] + s[small] + s[index + 1:small] + s[index] + s[small + 1:])"
   ]
  },
  {
   "cell_type": "markdown",
   "id": "da40ddd4",
   "metadata": {},
   "source": [
    "Write a recursive function to find maximum and minimum character of a given string and also return its position\n",
    "\n",
    "\n",
    "eg = the quick brown fox jumps over the lazy dog"
   ]
  },
  {
   "cell_type": "code",
   "execution_count": null,
   "id": "b723abc9",
   "metadata": {},
   "outputs": [],
   "source": [
    "string = input(\"Input String: \")\n",
    "\n",
    "def min_max_char(string, counters):\n",
    "    if string == '':\n",
    "        return counters\n",
    "    \n",
    "    char = string[0]\n",
    "    string = string[1:]\n",
    "    \n",
    "    "
   ]
  }
 ],
 "metadata": {
  "kernelspec": {
   "display_name": "Python 3 (ipykernel)",
   "language": "python",
   "name": "python3"
  },
  "language_info": {
   "codemirror_mode": {
    "name": "ipython",
    "version": 3
   },
   "file_extension": ".py",
   "mimetype": "text/x-python",
   "name": "python",
   "nbconvert_exporter": "python",
   "pygments_lexer": "ipython3",
   "version": "3.9.12"
  }
 },
 "nbformat": 4,
 "nbformat_minor": 5
}

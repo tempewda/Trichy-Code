{
 "cells": [
  {
   "cell_type": "code",
   "execution_count": 3,
   "id": "45171f57",
   "metadata": {},
   "outputs": [
    {
     "name": "stdout",
     "output_type": "stream",
     "text": [
      "41\n"
     ]
    }
   ],
   "source": [
    "#Evaluate the given expression of the form\n",
    "\n",
    "expr = 3 + 4 * 4 + 5 * 4 + 3 - 1\n",
    "print(expr)"
   ]
  },
  {
   "cell_type": "code",
   "execution_count": 4,
   "id": "24aa34fa",
   "metadata": {},
   "outputs": [
    {
     "name": "stdout",
     "output_type": "stream",
     "text": [
      "53\n"
     ]
    }
   ],
   "source": [
    "#Evaluate the given expression of the form\n",
    "\n",
    "expr = 3 + 4 * 4 + 5 * (4 + 3) - 1\n",
    "print(expr)"
   ]
  },
  {
   "cell_type": "code",
   "execution_count": 8,
   "id": "fd7a365a",
   "metadata": {},
   "outputs": [
    {
     "name": "stdout",
     "output_type": "stream",
     "text": [
      "Enter a number: 20\n",
      "Factorial of 20: 2432902008176640000\n"
     ]
    }
   ],
   "source": [
    "# demonstrate functions in python\n",
    "\n",
    "def factorial(num) :\n",
    "    fact = 1\n",
    "    \n",
    "    for n in range(1, num + 1):\n",
    "        fact *= n\n",
    "        \n",
    "    return fact\n",
    "\n",
    "def main() :\n",
    "    num = eval(input(\"Enter a number: \"))\n",
    "    print(f\"Factorial of {num}: {factorial(num)}\")\n",
    "    \n",
    "main()"
   ]
  },
  {
   "cell_type": "code",
   "execution_count": 14,
   "id": "85746c73",
   "metadata": {},
   "outputs": [
    {
     "name": "stdout",
     "output_type": "stream",
     "text": [
      "Enter the number of terms: 20\n",
      "0, 1, 1, 2, 3, 5, 8, 13, 21, 34, 55, 89, 144, 233, 377, 610, 987, 1597, 2584, 4181, "
     ]
    }
   ],
   "source": [
    "# Mathematically fibonacci number series: 0 1 1 2 3 5 8 13 21 34 ... for given range\n",
    "# initial conditions are 0 and 1,\n",
    "# Write a pytho function to print Fibonacci series\n",
    "\n",
    "def fibo(num):\n",
    "    first = 0\n",
    "    second = 1\n",
    "    \n",
    "    for i in range(num):\n",
    "        third = first + second\n",
    "\n",
    "        print(first, end = \", \")\n",
    "        first = second\n",
    "        second = third\n",
    "        \n",
    "def main():\n",
    "    num = eval(input(\"Enter the number of terms: \"))\n",
    "    fibo(num)\n",
    "    \n",
    "main()"
   ]
  },
  {
   "cell_type": "code",
   "execution_count": 29,
   "id": "371d0599",
   "metadata": {},
   "outputs": [
    {
     "name": "stdout",
     "output_type": "stream",
     "text": [
      "Number 1: 64\n",
      "Number 2: 12\n",
      "GCD of 64 and 12 is 4\n"
     ]
    }
   ],
   "source": [
    "# Find GCD of 2 positive integers without using remainder operator\n",
    "\n",
    "def rem(dividend, divisor):\n",
    "    rem = dividend - ((dividend // divisor) * divisor)\n",
    "    return rem\n",
    "\n",
    "def gcd(num1, num2):\n",
    "    a = max(num1, num2)\n",
    "    b = min(num1, num2)\n",
    "    \n",
    "    while(b > 0):\n",
    "        r = rem(a, b)\n",
    "        a = b\n",
    "        b = r\n",
    "        \n",
    "    return a\n",
    "\n",
    "a = eval(input(\"Number 1: \"))\n",
    "b = eval(input(\"Number 2: \"))\n",
    "print(f\"GCD of {a} and {b} is {gcd(a, b)}\")"
   ]
  },
  {
   "cell_type": "code",
   "execution_count": 22,
   "id": "2972b8f6",
   "metadata": {},
   "outputs": [
    {
     "name": "stdout",
     "output_type": "stream",
     "text": [
      "Enter number of rows: 5\n",
      "1\t\n",
      "2\t3\t\n",
      "4\t5\t6\t\n",
      "7\t8\t9\t10\t\n",
      "11\t12\t13\t14\t15\t\n"
     ]
    }
   ],
   "source": [
    "# Print Flyod's Triangle\n",
    "# 1\n",
    "# 2 3\n",
    "# 4 5 6\n",
    "# 7 8 9 10\n",
    "\n",
    "def flyod(rows):\n",
    "    num = 1\n",
    "    for i in range(rows):\n",
    "        for j in range(i + 1):\n",
    "            print(num, end = \"\\t\")\n",
    "            num += 1\n",
    "        print()\n",
    "        \n",
    "def main():\n",
    "    rows = eval(input(\"Enter number of rows: \"))\n",
    "    flyod(rows)\n",
    "    \n",
    "main()"
   ]
  },
  {
   "cell_type": "code",
   "execution_count": 24,
   "id": "a34bb232",
   "metadata": {},
   "outputs": [
    {
     "name": "stdout",
     "output_type": "stream",
     "text": [
      "\t\t\t1\t\n",
      "\t\t1\t2\t1\t\n",
      "\t1\t2\t3\t2\t1\t\n",
      "1\t2\t3\t4\t3\t2\t1\t\n"
     ]
    }
   ],
   "source": [
    "# Print Pascal's Triangle\n",
    "#       1\n",
    "#     1 2 1\n",
    "#   1 2 3 2 1\n",
    "# 1 2 3 4 3 2 1\n",
    "\n",
    "def pascal():\n",
    "    for rows in range(1,5):\n",
    "        # print leading spaces\n",
    "        for i in range(4 - rows):\n",
    "            print(end = \"\\t\")\n",
    "            \n",
    "        # print 1...row number (first half of the triangle)\n",
    "        for i in range(1, rows + 1):\n",
    "            print(i, end = '\\t')\n",
    "            \n",
    "        # print (row - 1)...1 (2nd half of the triangle)\n",
    "        for i in range(rows - 1, 0, -1):\n",
    "            print(i, end = '\\t')\n",
    "            \n",
    "        print()\n",
    "        \n",
    "pascal()    "
   ]
  },
  {
   "cell_type": "code",
   "execution_count": 17,
   "id": "70c2a9dd",
   "metadata": {},
   "outputs": [],
   "source": [
    "# Octal to Binary\n",
    "\n",
    "def binary(octal):\n",
    "    str = \"\"\n",
    "    \n",
    "    if()"
   ]
  },
  {
   "cell_type": "code",
   "execution_count": null,
   "id": "b0f0e185",
   "metadata": {},
   "outputs": [],
   "source": [
    "# Hexadecimal to Binary\n",
    "\n"
   ]
  },
  {
   "cell_type": "code",
   "execution_count": null,
   "id": "810db243",
   "metadata": {},
   "outputs": [],
   "source": [
    "# Write a function to evaluate binomial coefficient\n",
    "# to evaluate coeff C(n, 0) = 1, C(n, n) = 1, else\n",
    "# return C(n, r) = C(n - 1, r - 1) + C(n - 1, r)\n",
    "\n"
   ]
  }
 ],
 "metadata": {
  "kernelspec": {
   "display_name": "Python 3 (ipykernel)",
   "language": "python",
   "name": "python3"
  },
  "language_info": {
   "codemirror_mode": {
    "name": "ipython",
    "version": 3
   },
   "file_extension": ".py",
   "mimetype": "text/x-python",
   "name": "python",
   "nbconvert_exporter": "python",
   "pygments_lexer": "ipython3",
   "version": "3.9.12"
  }
 },
 "nbformat": 4,
 "nbformat_minor": 5
}

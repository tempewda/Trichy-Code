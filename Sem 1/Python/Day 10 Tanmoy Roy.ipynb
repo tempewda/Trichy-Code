{
 "cells": [
  {
   "cell_type": "markdown",
   "id": "27f08cea",
   "metadata": {},
   "source": [
    "WAPP to add, subtract, multiply and divide 2 pandas series:"
   ]
  },
  {
   "cell_type": "code",
   "execution_count": 2,
   "id": "01502912",
   "metadata": {},
   "outputs": [
    {
     "name": "stdout",
     "output_type": "stream",
     "text": [
      "Addition of series1 and series2:\n",
      "0    15\n",
      "1    35\n",
      "2    55\n",
      "3    75\n",
      "4    95\n",
      "dtype: int64\n",
      "\n",
      "Subtraction of series2 from series1:\n",
      "0    5\n",
      "1    5\n",
      "2    5\n",
      "3    5\n",
      "4    5\n",
      "dtype: int64\n",
      "\n",
      "Multiplication of series1 and series2:\n",
      "0      50\n",
      "1     300\n",
      "2     750\n",
      "3    1400\n",
      "4    2250\n",
      "dtype: int64\n",
      "\n",
      "Division of series1 by series2:\n",
      "0    2.000000\n",
      "1    1.333333\n",
      "2    1.200000\n",
      "3    1.142857\n",
      "4    1.111111\n",
      "dtype: float64\n"
     ]
    }
   ],
   "source": [
    "import pandas as pd\n",
    "\n",
    "# Define two sample Pandas Series\n",
    "series1 = pd.Series([10, 20, 30, 40, 50])\n",
    "series2 = pd.Series([5, 15, 25, 35, 45])\n",
    "\n",
    "# Add the two series\n",
    "add_result = series1 + series2\n",
    "print(\"Addition of series1 and series2:\")\n",
    "print(add_result)\n",
    "print()\n",
    "\n",
    "# Subtract series2 from series1\n",
    "sub_result = series1 - series2\n",
    "print(\"Subtraction of series2 from series1:\")\n",
    "print(sub_result)\n",
    "print()\n",
    "\n",
    "# Multiply the two series\n",
    "mul_result = series1 * series2\n",
    "print(\"Multiplication of series1 and series2:\")\n",
    "print(mul_result)\n",
    "print()\n",
    "\n",
    "# Divide series1 by series2\n",
    "# Use try-except block to avoid division by zero errors if any\n",
    "try:\n",
    "    div_result = series1 / series2\n",
    "    print(\"Division of series1 by series2:\")\n",
    "    print(div_result)\n",
    "except ZeroDivisionError:\n",
    "    print(\"Error: Division by zero occurred!\")\n"
   ]
  },
  {
   "cell_type": "markdown",
   "id": "d54d8c51",
   "metadata": {},
   "source": [
    "wapp that reads a source code file and counts the occurrences of each keyword in the file"
   ]
  },
  {
   "cell_type": "code",
   "execution_count": 7,
   "id": "5931da90",
   "metadata": {},
   "outputs": [
    {
     "name": "stdout",
     "output_type": "stream",
     "text": [
      "Keyword occurrences:\n",
      "import: 1\n",
      "def: 1\n",
      "for: 1\n",
      "in: 1\n",
      "if: 1\n",
      "break: 1\n",
      "elif: 1\n",
      "continue: 1\n",
      "pass: 1\n"
     ]
    }
   ],
   "source": [
    "import keyword\n",
    "import re\n",
    "from collections import Counter\n",
    "\n",
    "# Function to count keyword occurrences in a source code file\n",
    "def count_keywords_in_file(file_path):\n",
    "    # Get the list of Python keywords\n",
    "    python_keywords = set(keyword.kwlist)\n",
    "    \n",
    "    # Read the source code file\n",
    "    with open(file_path, 'r') as file:\n",
    "        code = file.read()\n",
    "    \n",
    "    # Use regular expressions to find all words in the code\n",
    "    words = re.findall(r'\\b\\w+\\b', code)\n",
    "    \n",
    "    # Filter words that are Python keywords\n",
    "    keyword_occurrences = [word for word in words if word in python_keywords]\n",
    "    \n",
    "    # Count occurrences of each keyword\n",
    "    keyword_count = Counter(keyword_occurrences)\n",
    "    \n",
    "    # Print the counts of each keyword\n",
    "    if keyword_count:\n",
    "        print(\"Keyword occurrences:\")\n",
    "        for key_word, count in keyword_count.items():\n",
    "            print(f\"{key_word}: {count}\")\n",
    "    else:\n",
    "        print(\"No Python keywords found in the file.\")\n",
    "        \n",
    "file_path = 'source_code.py'\n",
    "\n",
    "count_keywords_in_file(file_path)\n"
   ]
  },
  {
   "cell_type": "markdown",
   "id": "4c468389",
   "metadata": {},
   "source": [
    " WAPP that prompts the user to enter a text file, reads from the file, and displays all the nonduplicate words in ascending order"
   ]
  },
  {
   "cell_type": "code",
   "execution_count": 11,
   "id": "64f9a7cf",
   "metadata": {},
   "outputs": [
    {
     "name": "stdout",
     "output_type": "stream",
     "text": [
      "Please enter the path to the text file: sample.txt\n",
      "\n",
      "Non-duplicate words in ascending order:\n",
      "contains\n",
      "duplicates\n",
      "for\n",
      "hello\n",
      "python\n",
      "sample\n",
      "some\n",
      "test\n",
      "text\n",
      "with\n",
      "words\n",
      "world\n",
      "written\n"
     ]
    }
   ],
   "source": [
    "import re\n",
    "from collections import Counter\n",
    "\n",
    "# Function to read a file, process the text and display non-duplicate words in ascending order\n",
    "def display_nonduplicate_words():\n",
    "    # Prompt the user for the text file path\n",
    "    file_path = input(\"Please enter the path to the text file: \")\n",
    "    \n",
    "    try:\n",
    "        # Open the file and read its content\n",
    "        with open(file_path, 'r') as file:\n",
    "            text = file.read()\n",
    "        \n",
    "        # Use regular expression to extract words (considering word boundaries)\n",
    "        words = re.findall(r'\\b\\w+\\b', text.lower())  # Convert to lowercase for case-insensitive matching\n",
    "        \n",
    "        # Count the occurrences of each word\n",
    "        word_counts = Counter(words)\n",
    "        \n",
    "        # Filter words that appear only once (non-duplicate words)\n",
    "        non_duplicate_words = [word for word, count in word_counts.items() if count == 1]\n",
    "        \n",
    "        # Sort the non-duplicate words in ascending order\n",
    "        non_duplicate_words.sort()\n",
    "        \n",
    "        # Display the sorted non-duplicate words\n",
    "        if non_duplicate_words:\n",
    "            print(\"\\nNon-duplicate words in ascending order:\")\n",
    "            for word in non_duplicate_words:\n",
    "                print(word)\n",
    "        else:\n",
    "            print(\"No non-duplicate words found.\")\n",
    "    \n",
    "    except FileNotFoundError:\n",
    "        print(f\"The file at path '{file_path}' was not found. Please check the file path.\")\n",
    "    except Exception as e:\n",
    "        print(f\"An error occurred: {e}\")\n",
    "\n",
    "# Call the function\n",
    "display_nonduplicate_words()\n"
   ]
  },
  {
   "cell_type": "markdown",
   "id": "52b77635",
   "metadata": {},
   "source": [
    "WAPP that asks the user to input a text file name and displays the number of vowels and consonants in the file. use a set to store the vowels A, E, I, O, U "
   ]
  },
  {
   "cell_type": "code",
   "execution_count": 13,
   "id": "1d3f3673",
   "metadata": {},
   "outputs": [
    {
     "name": "stdout",
     "output_type": "stream",
     "text": [
      "Please enter the name of the text file: sample.txt\n",
      "\n",
      "Number of vowels: 33\n",
      "Number of consonants: 64\n"
     ]
    }
   ],
   "source": [
    "import string\n",
    "\n",
    "# Function to count vowels and consonants in a file\n",
    "def count_vowels_and_consonants():\n",
    "    # Prompt the user for the text file path\n",
    "    file_path = input(\"Please enter the name of the text file: \")\n",
    "    \n",
    "    # Define the set of vowels (both uppercase and lowercase)\n",
    "    vowels = set('aeiouAEIOU')\n",
    "    \n",
    "    # Initialize counters for vowels and consonants\n",
    "    vowel_count = 0\n",
    "    consonant_count = 0\n",
    "    \n",
    "    try:\n",
    "        # Open the file and read its content\n",
    "        with open(file_path, 'r') as file:\n",
    "            text = file.read()\n",
    "        \n",
    "        # Iterate through each character in the file content\n",
    "        for char in text:\n",
    "            if char.isalpha():  # Check if the character is a letter\n",
    "                if char in vowels:\n",
    "                    vowel_count += 1  # If it's a vowel, increment vowel count\n",
    "                else:\n",
    "                    consonant_count += 1  # If it's a consonant, increment consonant count\n",
    "        \n",
    "        # Display the results\n",
    "        print(f\"\\nNumber of vowels: {vowel_count}\")\n",
    "        print(f\"Number of consonants: {consonant_count}\")\n",
    "    \n",
    "    except FileNotFoundError:\n",
    "        print(f\"The file '{file_path}' was not found. Please check the file name.\")\n",
    "    except Exception as e:\n",
    "        print(f\"An error occurred: {e}\")\n",
    "\n",
    "# Call the function\n",
    "count_vowels_and_consonants()\n"
   ]
  },
  {
   "cell_type": "markdown",
   "id": "2282120d",
   "metadata": {},
   "source": [
    "WAPP to remove newline characters from a file"
   ]
  },
  {
   "cell_type": "code",
   "execution_count": 14,
   "id": "0ffda468",
   "metadata": {},
   "outputs": [
    {
     "name": "stdout",
     "output_type": "stream",
     "text": [
      "Please enter the name of the text file: source_code.txt\n",
      "Newline characters have been removed and the file has been updated.\n"
     ]
    }
   ],
   "source": [
    "def remove_newlines_from_file():\n",
    "    # Prompt the user for the file path\n",
    "    file_path = input(\"Please enter the name of the text file: \")\n",
    "    \n",
    "    try:\n",
    "        # Open the file in read mode to get the content\n",
    "        with open(file_path, 'r') as file:\n",
    "            content = file.read()  # Read the entire file content\n",
    "        \n",
    "        # Remove newline characters from the content\n",
    "        content_without_newlines = content.replace('\\n', '')\n",
    "        \n",
    "        # Optionally, you can write the cleaned content back to the same file or a new file\n",
    "        with open(file_path, 'w') as file:\n",
    "            file.write(content_without_newlines)  # Write back the modified content\n",
    "\n",
    "        print(f\"Newline characters have been removed and the file has been updated.\")\n",
    "\n",
    "    except FileNotFoundError:\n",
    "        print(f\"The file '{file_path}' was not found. Please check the file name and try again.\")\n",
    "    except Exception as e:\n",
    "        print(f\"An error occurred: {e}\")\n",
    "\n",
    "# Call the function\n",
    "remove_newlines_from_file()\n"
   ]
  },
  {
   "cell_type": "markdown",
   "id": "46924b9c",
   "metadata": {},
   "source": [
    "WAPP to read, write the contents from one csv file to another"
   ]
  },
  {
   "cell_type": "code",
   "execution_count": 15,
   "id": "2cea929f",
   "metadata": {},
   "outputs": [
    {
     "name": "stdout",
     "output_type": "stream",
     "text": [
      "Enter the source CSV file path: source.csv\n",
      "Enter the destination CSV file path: destination.csv\n",
      "Contents from 'source.csv' have been successfully copied to 'destination.csv'.\n"
     ]
    }
   ],
   "source": [
    "import csv\n",
    "\n",
    "def copy_csv_contents():\n",
    "    # Prompt the user for the source and destination CSV file paths\n",
    "    source_file = input(\"Enter the source CSV file path: \")\n",
    "    destination_file = input(\"Enter the destination CSV file path: \")\n",
    "    \n",
    "    try:\n",
    "        # Open the source file in read mode\n",
    "        with open(source_file, 'r', newline='') as infile:\n",
    "            reader = csv.reader(infile)  # Create a CSV reader object\n",
    "            rows = list(reader)  # Read all the rows into a list\n",
    "        \n",
    "        # Open the destination file in write mode\n",
    "        with open(destination_file, 'w', newline='') as outfile:\n",
    "            writer = csv.writer(outfile)  # Create a CSV writer object\n",
    "            writer.writerows(rows)  # Write all the rows to the destination file\n",
    "        \n",
    "        print(f\"Contents from '{source_file}' have been successfully copied to '{destination_file}'.\")\n",
    "\n",
    "    except FileNotFoundError:\n",
    "        print(f\"The file '{source_file}' was not found. Please check the file path and try again.\")\n",
    "    except Exception as e:\n",
    "        print(f\"An error occurred: {e}\")\n",
    "\n",
    "# Call the function\n",
    "copy_csv_contents()"
   ]
  },
  {
   "cell_type": "code",
   "execution_count": null,
   "id": "b42e3612",
   "metadata": {},
   "outputs": [],
   "source": []
  }
 ],
 "metadata": {
  "kernelspec": {
   "display_name": "Python 3 (ipykernel)",
   "language": "python",
   "name": "python3"
  },
  "language_info": {
   "codemirror_mode": {
    "name": "ipython",
    "version": 3
   },
   "file_extension": ".py",
   "mimetype": "text/x-python",
   "name": "python",
   "nbconvert_exporter": "python",
   "pygments_lexer": "ipython3",
   "version": "3.9.12"
  }
 },
 "nbformat": 4,
 "nbformat_minor": 5
}

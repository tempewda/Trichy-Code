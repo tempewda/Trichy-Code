{
 "cells": [
  {
   "cell_type": "markdown",
   "id": "4b3b82da",
   "metadata": {},
   "source": [
    "## Lists (use functions for each)\n",
    "1. WAPP to sort the elements in ascending order using Bubble Sort, Selection Sort and Insertion Sort "
   ]
  },
  {
   "cell_type": "code",
   "execution_count": 12,
   "id": "18487abd",
   "metadata": {},
   "outputs": [
    {
     "name": "stdout",
     "output_type": "stream",
     "text": [
      "[0, 3, 5, 7, 18, 21, 64, 90]\n",
      "[0, 3, 5, 7, 18, 21, 64, 90]\n"
     ]
    }
   ],
   "source": [
    "def bubble(nums):\n",
    "    for i in range(len(nums) - 1):\n",
    "        swapped = 0 # keep track if swap has happened in this iteration or not\n",
    "        for index in range(len(nums) - 1):\n",
    "            if nums[index] > nums[index + 1]:\n",
    "                nums[index], nums[index + 1] = nums[index + 1], nums[index]\n",
    "                swapped = 1\n",
    "        # if no swap has happened in prev iteration\n",
    "        # it means that list is already sorted\n",
    "        if not swapped:\n",
    "            return\n",
    "\n",
    "\n",
    "def selection(nums):\n",
    "    # select the next smallest number in the list\n",
    "    # move it to the leftmost side\n",
    "    for i in range(len(nums) - 1):\n",
    "        small_index = i\n",
    "        \n",
    "        # search for the next smallest element\n",
    "        for index in range(i + 1, len(nums)):\n",
    "            if nums[index] < nums[small_index]:\n",
    "                small_index = index\n",
    "        \n",
    "        # swap the smallest element to its position\n",
    "        nums[i], nums[small_index] = nums[small_index], nums[i]\n",
    "      \n",
    "\n",
    "\n",
    "def insertion(nums):\n",
    "    \n",
    "    \n",
    "        \n",
    "nums1 = [5, 3, 90, 64, 21, 7, 0, 18]\n",
    "nums2 = [5, 3, 90, 64, 21, 7, 0, 18]\n",
    "bubble(nums1)\n",
    "print(nums1)\n",
    "selection(nums2)\n",
    "print(nums2)\n",
    "            \n",
    "            "
   ]
  },
  {
   "cell_type": "markdown",
   "id": "6b93e30c",
   "metadata": {},
   "source": [
    "2. WAPP to sort the elements in ascending order using Merge Sort (don't use built-in functions)"
   ]
  },
  {
   "cell_type": "code",
   "execution_count": null,
   "id": "9a789d24",
   "metadata": {},
   "outputs": [],
   "source": []
  },
  {
   "cell_type": "markdown",
   "id": "2d68f455",
   "metadata": {},
   "source": [
    "3. WAPF that prompts the user to enter 5 numbers then invoke a function to find the GCD of these numbers"
   ]
  },
  {
   "cell_type": "code",
   "execution_count": 21,
   "id": "2c40a34f",
   "metadata": {},
   "outputs": [
    {
     "name": "stdout",
     "output_type": "stream",
     "text": [
      "Input 5 numbers: \n",
      "10\n",
      "10\n",
      "10\n",
      "10\n",
      "10\n",
      "GCD: 10\n"
     ]
    }
   ],
   "source": [
    "# takes a list of numbers and returns their minimum\n",
    "def find_min(nums):\n",
    "    smallest = nums[0]\n",
    "    for num in nums:\n",
    "        if num < smallest:\n",
    "            smallest = num\n",
    "    \n",
    "    return smallest\n",
    "\n",
    "# input a list of numbers and find their GCD\n",
    "def GCD(nums):\n",
    "    min = find_min(nums)\n",
    "    factor = 1\n",
    "    \n",
    "    for i in range(2, min + 1):\n",
    "        is_factor = 0\n",
    "        # check if i divides all numbers in list\n",
    "        for num in nums:\n",
    "            if num % i != 0:\n",
    "                is_factor = 0\n",
    "                break\n",
    "            else:\n",
    "                is_factor = 1\n",
    "        \n",
    "        if(is_factor):\n",
    "            factor = i\n",
    "            \n",
    "    return factor       \n",
    "    \n",
    "\n",
    "print(\"Input 5 numbers: \")\n",
    "nums = []\n",
    "\n",
    "for index in range(5):\n",
    "    nums.append(int(input()))\n",
    "    \n",
    "# find GCD\n",
    "print(f\"GCD: {GCD(nums)}\")"
   ]
  },
  {
   "cell_type": "markdown",
   "id": "d9cd0126",
   "metadata": {},
   "source": [
    "4. WAPP to use Binary Search to find the key element in the list and return its position also.\n",
    "Enter N and key\n",
    "return whether key found or not plus position"
   ]
  },
  {
   "cell_type": "code",
   "execution_count": 25,
   "id": "37876a04",
   "metadata": {},
   "outputs": [
    {
     "name": "stdout",
     "output_type": "stream",
     "text": [
      "Input number of elements: 5\n",
      "1\n",
      "2\n",
      "3\n",
      "4\n",
      "5\n",
      "Input search key: 4\n",
      "4 found at position 4\n"
     ]
    }
   ],
   "source": [
    "def binary(nums, target):\n",
    "    low = 0\n",
    "    high = len(nums) - 1\n",
    "    \n",
    "    while low <= high:\n",
    "        mid = (low + high) // 2\n",
    "        \n",
    "        if nums[mid] == target:\n",
    "            return mid\n",
    "        elif nums[mid] >= target:\n",
    "            high = mid - 1\n",
    "        else:\n",
    "            low = mid + 1\n",
    "            \n",
    "    return -1\n",
    "    \n",
    "N = int(input(\"Input number of elements: \"))\n",
    "nums = []\n",
    "\n",
    "for index in range(N):\n",
    "    nums.append(int(input()))\n",
    "    \n",
    "target = int(input(\"Input search key: \"))\n",
    "pos = binary(nums, target)\n",
    "\n",
    "if pos == -1:\n",
    "    print(f\"{target} not found in list\")\n",
    "else:\n",
    "    print(f\"{target} found at position {pos + 1}\")"
   ]
  },
  {
   "cell_type": "markdown",
   "id": "ad387f5b",
   "metadata": {},
   "source": [
    "5. WAPP to use Linear Search to find the key element in the list and return its position also.\n",
    "\n",
    "\n",
    "Enter N and key\n",
    "\n",
    "\n",
    "return whether key found or not plus position"
   ]
  },
  {
   "cell_type": "code",
   "execution_count": 27,
   "id": "1aafb14f",
   "metadata": {},
   "outputs": [
    {
     "name": "stdout",
     "output_type": "stream",
     "text": [
      "Input number of elements: 5\n",
      "1\n",
      "2\n",
      "3\n",
      "4\n",
      "5\n",
      "Input search key: 4\n",
      "4 found at position 4\n"
     ]
    }
   ],
   "source": [
    "def linear(nums, target):\n",
    "    for i in range(len(nums)):\n",
    "        if nums[i] == target:\n",
    "            return i\n",
    "        \n",
    "    return -1\n",
    "    \n",
    "N = int(input(\"Input number of elements: \"))\n",
    "nums = []\n",
    "\n",
    "for index in range(N):\n",
    "    nums.append(int(input()))\n",
    "    \n",
    "target = int(input(\"Input search key: \"))\n",
    "pos = linear(nums, target)\n",
    "\n",
    "if pos == -1:\n",
    "    print(f\"{target} not found in list\")\n",
    "else:\n",
    "    print(f\"{target} found at position {pos + 1}\")"
   ]
  },
  {
   "cell_type": "markdown",
   "id": "2037f46b",
   "metadata": {},
   "source": [
    "6. WAPP to implement stack operations: push and pop"
   ]
  },
  {
   "cell_type": "code",
   "execution_count": 36,
   "id": "738bc1c9",
   "metadata": {},
   "outputs": [
    {
     "name": "stdout",
     "output_type": "stream",
     "text": [
      "Current Stack: [1, 2, 3, 4]\n",
      "5 pushed to stack\n",
      "Stack: [1, 2, 3, 4, 5]\n",
      "6 pushed to stack\n",
      "Stack: [1, 2, 3, 4, 5, 6]\n",
      "Popped Item: 6\n",
      "Stack: [1, 2, 3, 4, 5]\n",
      "Popped Item: 5\n",
      "Stack: [1, 2, 3, 4]\n",
      "Popped Item: 4\n",
      "Stack: [1, 2, 3]\n",
      "Popped Item: 3\n"
     ]
    }
   ],
   "source": [
    "def push(stack, top, item):\n",
    "    stack.append(item)\n",
    "    print(f\"{item} pushed to stack\")\n",
    "    top += 1\n",
    "    return top\n",
    "    \n",
    "def pop(stack, top):\n",
    "    if top == -1:\n",
    "        print(\"Stack underflow...\")\n",
    "        return -1\n",
    "    \n",
    "    print(f\"Popped Item: {stack.pop(top)}\")\n",
    "    top -= 1\n",
    "    return top\n",
    "\n",
    "stack = [1, 2, 3, 4]\n",
    "top = 3\n",
    "\n",
    "print(f\"Current Stack: {stack}\")\n",
    "top = push(stack, top, 5)\n",
    "print(f\"Stack: {stack}\")\n",
    "top = push(stack, top, 6)\n",
    "print(f\"Stack: {stack}\")\n",
    "top = pop(stack, top)\n",
    "print(f\"Stack: {stack}\")\n",
    "top = pop(stack, top)\n",
    "print(f\"Stack: {stack}\")\n",
    "top = pop(stack, top)\n",
    "print(f\"Stack: {stack}\")\n",
    "top = pop(stack, top)"
   ]
  },
  {
   "cell_type": "markdown",
   "id": "5fbc8c5c",
   "metadata": {},
   "source": [
    "7. WAPP to implement queue operations: enqueue and dequeue"
   ]
  },
  {
   "cell_type": "code",
   "execution_count": 31,
   "id": "ee998887",
   "metadata": {},
   "outputs": [
    {
     "name": "stdout",
     "output_type": "stream",
     "text": [
      "Current Queue: [1, 2, 3, 4, 5]\n",
      "Queue: [1, 2, 3, 4, 5, 6]\n",
      "Queue: [1, 2, 3, 4, 5, 6, 7]\n",
      "Queue: [2, 3, 4, 5, 6, 7]\n",
      "Queue: [3, 4, 5, 6, 7]\n"
     ]
    }
   ],
   "source": [
    "def enqueue(queue, item):\n",
    "    queue.append(item)\n",
    "    \n",
    "def dequeue(queue):\n",
    "    del queue[0]\n",
    "\n",
    "queue = [1, 2, 3, 4, 5]\n",
    "print(f\"Current Queue: {queue}\")\n",
    "enqueue(queue, 6)\n",
    "print(f\"Queue: {queue}\")\n",
    "enqueue(queue, 7)\n",
    "print(f\"Queue: {queue}\")\n",
    "\n",
    "dequeue(queue)\n",
    "print(f\"Queue: {queue}\")\n",
    "dequeue(queue)\n",
    "print(f\"Queue: {queue}\")"
   ]
  },
  {
   "cell_type": "markdown",
   "id": "6ab12ce1",
   "metadata": {},
   "source": [
    "8. WAPP that create a list of numbers 1 to 100, that are divisible by 5 or 6\n",
    "\n",
    "Inclusion Exclusion Principle"
   ]
  },
  {
   "cell_type": "code",
   "execution_count": 37,
   "id": "ffc7ab9b",
   "metadata": {},
   "outputs": [
    {
     "name": "stdout",
     "output_type": "stream",
     "text": [
      "Numbers divisible by 5 or 6: \n",
      "5 6 10 12 15 18 20 24 25 30 35 36 40 42 45 48 50 54 55 60 65 66 70 72 75 78 80 84 85 90 95 96 100 \n"
     ]
    }
   ],
   "source": [
    "def div5_6():\n",
    "    print(\"Numbers divisible by 5 or 6: \")\n",
    "    for num in range(1, 101):\n",
    "        if num % 5 == 0 or num % 6 == 0:\n",
    "            print(num, end = ' ')\n",
    "    print()\n",
    "    \n",
    "div5_6()"
   ]
  },
  {
   "cell_type": "markdown",
   "id": "01f17b61",
   "metadata": {},
   "source": [
    "9. Remove duplicate elements in a list and also count the number of duplicates"
   ]
  },
  {
   "cell_type": "code",
   "execution_count": null,
   "id": "cbf63b1f",
   "metadata": {},
   "outputs": [],
   "source": [
    "def remove_duplicates(nums):\n",
    "    for index in range(len(nums)):\n",
    "        target = nums[index]\n",
    "        \n",
    "        for i in range"
   ]
  },
  {
   "cell_type": "markdown",
   "id": "f0448602",
   "metadata": {},
   "source": [
    "10. WAPP to find second minimum"
   ]
  },
  {
   "cell_type": "code",
   "execution_count": 7,
   "id": "d9b0c559",
   "metadata": {},
   "outputs": [
    {
     "name": "stdout",
     "output_type": "stream",
     "text": [
      "Input list of numbers(-1 to end): \n",
      "Input List: [1, 1, 1, 1, 1, 1, 2]\n",
      "Second minimumm not present in list\n"
     ]
    }
   ],
   "source": [
    "def find_sec_min(nums):\n",
    "    sec_min = min = None\n",
    "    \n",
    "    for num in nums:\n",
    "        if min is None or num < min:\n",
    "            sec_min = min\n",
    "            min = num\n",
    "\n",
    "        elif num != min and (sec_min is None or num < sec_min):\n",
    "            sec_min = num\n",
    "    \n",
    "    if sec_min is None:\n",
    "        return -1\n",
    "    else:\n",
    "        return sec_min\n",
    "\n",
    "nums = [] # empty list      \n",
    "print(\"Input list of numbers(-1 to end): \", end = '')\n",
    "\n",
    "while True:\n",
    "    num = int(input())\n",
    "    if num == -1:\n",
    "        break\n",
    "    nums = nums + [num]\n",
    "    \n",
    "print(f\"\\nInput List: {nums}\")\n",
    "\n",
    "sec_min = find_sec_min(nums)\n",
    "if sec_min == -1:\n",
    "    print(\"Second minimumm not present in list\")\n",
    "else:\n",
    "    print(f\"Second minimum: {sec_min}\")"
   ]
  },
  {
   "cell_type": "markdown",
   "id": "3c2213c0",
   "metadata": {},
   "source": [
    "11. WAPP to find second maximum"
   ]
  },
  {
   "cell_type": "code",
   "execution_count": null,
   "id": "14dc671a",
   "metadata": {},
   "outputs": [],
   "source": []
  },
  {
   "cell_type": "code",
   "execution_count": 5,
   "id": "0cd4a32a",
   "metadata": {},
   "outputs": [
    {
     "name": "stdout",
     "output_type": "stream",
     "text": [
      "Input list of numbers(-1 to end): [1, 2, 3, 4, 5]\n"
     ]
    }
   ],
   "source": [
    "nums = [] # empty list      \n",
    "print(\"Input list of numbers(-1 to end): \", end = '')\n",
    "\n",
    "while True:\n",
    "    num = int(input())\n",
    "    if num == -1:\n",
    "        break\n",
    "    nums = nums + [num]\n",
    "\n",
    "print(nums)"
   ]
  },
  {
   "cell_type": "code",
   "execution_count": null,
   "id": "28083f1e",
   "metadata": {},
   "outputs": [],
   "source": []
  }
 ],
 "metadata": {
  "kernelspec": {
   "display_name": "Python 3 (ipykernel)",
   "language": "python",
   "name": "python3"
  },
  "language_info": {
   "codemirror_mode": {
    "name": "ipython",
    "version": 3
   },
   "file_extension": ".py",
   "mimetype": "text/x-python",
   "name": "python",
   "nbconvert_exporter": "python",
   "pygments_lexer": "ipython3",
   "version": "3.12.1"
  }
 },
 "nbformat": 4,
 "nbformat_minor": 5
}
